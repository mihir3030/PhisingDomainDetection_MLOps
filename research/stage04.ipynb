{
 "cells": [
  {
   "cell_type": "code",
   "execution_count": 1,
   "metadata": {},
   "outputs": [],
   "source": [
    "import os\n",
    "os.chdir(\"../\")"
   ]
  },
  {
   "cell_type": "code",
   "execution_count": 9,
   "metadata": {},
   "outputs": [],
   "source": [
    "from pathlib import Path\n",
    "from dataclasses import dataclass\n",
    "\n",
    "@dataclass(frozen=True)\n",
    "class EvaluationConfig:\n",
    "    root_dir: Path\n",
    "    load_model_path: Path\n",
    "    load_test_data: Path\n",
    "    local_file: Path\n"
   ]
  },
  {
   "cell_type": "code",
   "execution_count": 4,
   "metadata": {},
   "outputs": [],
   "source": [
    "from PhishingDomainDetection.constants import CONFIG_FILE_PATH, PARAMS_FILE_APTH\n",
    "from PhishingDomainDetection.utils import read_yaml_file, create_directories\n",
    "import joblib"
   ]
  },
  {
   "cell_type": "code",
   "execution_count": 22,
   "metadata": {},
   "outputs": [],
   "source": [
    "class ConfigurationManager:\n",
    "    def __init__(self, config_file_path=CONFIG_FILE_PATH, params_file_path=PARAMS_FILE_APTH):\n",
    "        self.config = read_yaml_file(config_file_path)\n",
    "        self.params = read_yaml_file(params_file_path)\n",
    "        create_directories([self.config.artifacts_root])\n",
    "\n",
    "    def get_model_for_evaluation(self):\n",
    "        self.data_load_config = self.config.training\n",
    "        self.root_dir = self.data_load_config.root_dir\n",
    "        self.file_dir = self.data_load_config.model_save\n",
    "        self.file_path = os.path.join(self.root_dir, self.file_dir)\n",
    "        return self.file_path\n",
    "\n",
    "    def get_test_data_for_evaluation(self):\n",
    "        self.data_load_config = self.config.training\n",
    "        self.root_dir = self.data_load_config.root_dir\n",
    "        self.file_dir = self.data_load_config.test_data_save\n",
    "        self.file_path = os.path.join(self.root_dir, self.file_dir)        \n",
    "        return self.file_path\n",
    "\n",
    "    def get_evaluation_config(self) -> EvaluationConfig:\n",
    "        config = self.config.model_evaluation\n",
    "        create_directories([config.root_dir])\n",
    "\n",
    "        evaluation_config = EvaluationConfig(\n",
    "            root_dir=Path(config.root_dir),\n",
    "            load_model_path=Path(self.get_model_for_evaluation()),\n",
    "            load_test_data=Path(self.get_test_data_for_evaluation()),\n",
    "            local_file=Path(config.local_file)\n",
    "        )\n",
    "\n",
    "        return evaluation_config"
   ]
  },
  {
   "cell_type": "code",
   "execution_count": 28,
   "metadata": {},
   "outputs": [
    {
     "name": "stdout",
     "output_type": "stream",
     "text": [
      "[2023-02-13 16:00:45,595: INFO common]: yaml file configs\\config.yaml load  successfully\n",
      "[2023-02-13 16:00:45,602: INFO common]: yaml file params.yaml load  successfully\n",
      "[2023-02-13 16:00:45,604: INFO common]: created directory at artifacts\n",
      "[2023-02-13 16:00:45,607: INFO common]: created directory at artifacts/model_score\n"
     ]
    },
    {
     "ename": "TypeError",
     "evalue": "expected str, bytes or os.PathLike object, not NoneType",
     "output_type": "error",
     "traceback": [
      "\u001b[1;31m---------------------------------------------------------------------------\u001b[0m",
      "\u001b[1;31mTypeError\u001b[0m                                 Traceback (most recent call last)",
      "Cell \u001b[1;32mIn[28], line 2\u001b[0m\n\u001b[0;32m      1\u001b[0m aa \u001b[39m=\u001b[39m ConfigurationManager()\n\u001b[1;32m----> 2\u001b[0m aa\u001b[39m.\u001b[39;49mget_evaluation_config()\n",
      "Cell \u001b[1;32mIn[22], line 26\u001b[0m, in \u001b[0;36mConfigurationManager.get_evaluation_config\u001b[1;34m(self)\u001b[0m\n\u001b[0;32m     21\u001b[0m config \u001b[39m=\u001b[39m \u001b[39mself\u001b[39m\u001b[39m.\u001b[39mconfig\u001b[39m.\u001b[39mmodel_evaluation\n\u001b[0;32m     22\u001b[0m create_directories([config\u001b[39m.\u001b[39mroot_dir])\n\u001b[0;32m     24\u001b[0m evaluation_config \u001b[39m=\u001b[39m EvaluationConfig(\n\u001b[0;32m     25\u001b[0m     root_dir\u001b[39m=\u001b[39mPath(config\u001b[39m.\u001b[39mroot_dir),\n\u001b[1;32m---> 26\u001b[0m     load_model_path\u001b[39m=\u001b[39mPath(\u001b[39mself\u001b[39;49m\u001b[39m.\u001b[39;49mget_model_for_evaluation()),\n\u001b[0;32m     27\u001b[0m     load_test_data\u001b[39m=\u001b[39mPath(\u001b[39mself\u001b[39m\u001b[39m.\u001b[39mget_test_data_for_evaluation()),\n\u001b[0;32m     28\u001b[0m     local_file\u001b[39m=\u001b[39mPath(config\u001b[39m.\u001b[39mlocal_file)\n\u001b[0;32m     29\u001b[0m )\n\u001b[0;32m     31\u001b[0m \u001b[39mreturn\u001b[39;00m evaluation_config\n",
      "File \u001b[1;32mc:\\work-projects\\PhisingDomainDetection_MLOps\\env\\lib\\pathlib.py:1042\u001b[0m, in \u001b[0;36mPath.__new__\u001b[1;34m(cls, *args, **kwargs)\u001b[0m\n\u001b[0;32m   1040\u001b[0m \u001b[39mif\u001b[39;00m \u001b[39mcls\u001b[39m \u001b[39mis\u001b[39;00m Path:\n\u001b[0;32m   1041\u001b[0m     \u001b[39mcls\u001b[39m \u001b[39m=\u001b[39m WindowsPath \u001b[39mif\u001b[39;00m os\u001b[39m.\u001b[39mname \u001b[39m==\u001b[39m \u001b[39m'\u001b[39m\u001b[39mnt\u001b[39m\u001b[39m'\u001b[39m \u001b[39melse\u001b[39;00m PosixPath\n\u001b[1;32m-> 1042\u001b[0m \u001b[39mself\u001b[39m \u001b[39m=\u001b[39m \u001b[39mcls\u001b[39;49m\u001b[39m.\u001b[39;49m_from_parts(args, init\u001b[39m=\u001b[39;49m\u001b[39mFalse\u001b[39;49;00m)\n\u001b[0;32m   1043\u001b[0m \u001b[39mif\u001b[39;00m \u001b[39mnot\u001b[39;00m \u001b[39mself\u001b[39m\u001b[39m.\u001b[39m_flavour\u001b[39m.\u001b[39mis_supported:\n\u001b[0;32m   1044\u001b[0m     \u001b[39mraise\u001b[39;00m \u001b[39mNotImplementedError\u001b[39;00m(\u001b[39m\"\u001b[39m\u001b[39mcannot instantiate \u001b[39m\u001b[39m%r\u001b[39;00m\u001b[39m on your system\u001b[39m\u001b[39m\"\u001b[39m\n\u001b[0;32m   1045\u001b[0m                               \u001b[39m%\u001b[39m (\u001b[39mcls\u001b[39m\u001b[39m.\u001b[39m\u001b[39m__name__\u001b[39m,))\n",
      "File \u001b[1;32mc:\\work-projects\\PhisingDomainDetection_MLOps\\env\\lib\\pathlib.py:683\u001b[0m, in \u001b[0;36mPurePath._from_parts\u001b[1;34m(cls, args, init)\u001b[0m\n\u001b[0;32m    678\u001b[0m \u001b[39m@classmethod\u001b[39m\n\u001b[0;32m    679\u001b[0m \u001b[39mdef\u001b[39;00m \u001b[39m_from_parts\u001b[39m(\u001b[39mcls\u001b[39m, args, init\u001b[39m=\u001b[39m\u001b[39mTrue\u001b[39;00m):\n\u001b[0;32m    680\u001b[0m     \u001b[39m# We need to call _parse_args on the instance, so as to get the\u001b[39;00m\n\u001b[0;32m    681\u001b[0m     \u001b[39m# right flavour.\u001b[39;00m\n\u001b[0;32m    682\u001b[0m     \u001b[39mself\u001b[39m \u001b[39m=\u001b[39m \u001b[39mobject\u001b[39m\u001b[39m.\u001b[39m\u001b[39m__new__\u001b[39m(\u001b[39mcls\u001b[39m)\n\u001b[1;32m--> 683\u001b[0m     drv, root, parts \u001b[39m=\u001b[39m \u001b[39mself\u001b[39;49m\u001b[39m.\u001b[39;49m_parse_args(args)\n\u001b[0;32m    684\u001b[0m     \u001b[39mself\u001b[39m\u001b[39m.\u001b[39m_drv \u001b[39m=\u001b[39m drv\n\u001b[0;32m    685\u001b[0m     \u001b[39mself\u001b[39m\u001b[39m.\u001b[39m_root \u001b[39m=\u001b[39m root\n",
      "File \u001b[1;32mc:\\work-projects\\PhisingDomainDetection_MLOps\\env\\lib\\pathlib.py:667\u001b[0m, in \u001b[0;36mPurePath._parse_args\u001b[1;34m(cls, args)\u001b[0m\n\u001b[0;32m    665\u001b[0m     parts \u001b[39m+\u001b[39m\u001b[39m=\u001b[39m a\u001b[39m.\u001b[39m_parts\n\u001b[0;32m    666\u001b[0m \u001b[39melse\u001b[39;00m:\n\u001b[1;32m--> 667\u001b[0m     a \u001b[39m=\u001b[39m os\u001b[39m.\u001b[39;49mfspath(a)\n\u001b[0;32m    668\u001b[0m     \u001b[39mif\u001b[39;00m \u001b[39misinstance\u001b[39m(a, \u001b[39mstr\u001b[39m):\n\u001b[0;32m    669\u001b[0m         \u001b[39m# Force-cast str subclasses to str (issue #21127)\u001b[39;00m\n\u001b[0;32m    670\u001b[0m         parts\u001b[39m.\u001b[39mappend(\u001b[39mstr\u001b[39m(a))\n",
      "\u001b[1;31mTypeError\u001b[0m: expected str, bytes or os.PathLike object, not NoneType"
     ]
    }
   ],
   "source": [
    "aa = ConfigurationManager()\n",
    "aa.get_evaluation_config()"
   ]
  },
  {
   "cell_type": "code",
   "execution_count": 24,
   "metadata": {},
   "outputs": [],
   "source": [
    "import matplotlib.pyplot as plt\n",
    "import seaborn as sns\n",
    "from sklearn.metrics import confusion_matrix, accuracy_score, classification_report\n",
    "import pandas as pd"
   ]
  },
  {
   "cell_type": "code",
   "execution_count": 25,
   "metadata": {},
   "outputs": [],
   "source": [
    "class Evaluation:\n",
    "    def __init__(self, config: EvaluationConfig):\n",
    "        self.config = config\n",
    "\n",
    "    def load_test_data(self):\n",
    "        datapath = self.config.load_test_data()\n",
    "        self.df = pd.read_csv(datapath)\n",
    "\n",
    "    \n"
   ]
  },
  {
   "cell_type": "code",
   "execution_count": 26,
   "metadata": {},
   "outputs": [
    {
     "name": "stdout",
     "output_type": "stream",
     "text": [
      "[2023-02-13 15:59:55,252: INFO common]: yaml file configs\\config.yaml load  successfully\n",
      "[2023-02-13 15:59:55,260: INFO common]: yaml file params.yaml load  successfully\n",
      "[2023-02-13 15:59:55,262: INFO common]: created directory at artifacts\n",
      "[2023-02-13 15:59:55,263: INFO common]: created directory at artifacts/model_score\n"
     ]
    },
    {
     "ename": "TypeError",
     "evalue": "expected str, bytes or os.PathLike object, not NoneType",
     "output_type": "error",
     "traceback": [
      "\u001b[1;31m---------------------------------------------------------------------------\u001b[0m",
      "\u001b[1;31mTypeError\u001b[0m                                 Traceback (most recent call last)",
      "Cell \u001b[1;32mIn[26], line 2\u001b[0m\n\u001b[0;32m      1\u001b[0m config \u001b[39m=\u001b[39m ConfigurationManager()\n\u001b[1;32m----> 2\u001b[0m evaluation_config \u001b[39m=\u001b[39m config\u001b[39m.\u001b[39;49mget_evaluation_config()\n\u001b[0;32m      3\u001b[0m evaluation \u001b[39m=\u001b[39m Evaluation(config\u001b[39m=\u001b[39mevaluation_config)\n\u001b[0;32m      4\u001b[0m evaluation\u001b[39m.\u001b[39mload_test_data()\n",
      "Cell \u001b[1;32mIn[22], line 26\u001b[0m, in \u001b[0;36mConfigurationManager.get_evaluation_config\u001b[1;34m(self)\u001b[0m\n\u001b[0;32m     21\u001b[0m config \u001b[39m=\u001b[39m \u001b[39mself\u001b[39m\u001b[39m.\u001b[39mconfig\u001b[39m.\u001b[39mmodel_evaluation\n\u001b[0;32m     22\u001b[0m create_directories([config\u001b[39m.\u001b[39mroot_dir])\n\u001b[0;32m     24\u001b[0m evaluation_config \u001b[39m=\u001b[39m EvaluationConfig(\n\u001b[0;32m     25\u001b[0m     root_dir\u001b[39m=\u001b[39mPath(config\u001b[39m.\u001b[39mroot_dir),\n\u001b[1;32m---> 26\u001b[0m     load_model_path\u001b[39m=\u001b[39mPath(\u001b[39mself\u001b[39;49m\u001b[39m.\u001b[39;49mget_model_for_evaluation()),\n\u001b[0;32m     27\u001b[0m     load_test_data\u001b[39m=\u001b[39mPath(\u001b[39mself\u001b[39m\u001b[39m.\u001b[39mget_test_data_for_evaluation()),\n\u001b[0;32m     28\u001b[0m     local_file\u001b[39m=\u001b[39mPath(config\u001b[39m.\u001b[39mlocal_file)\n\u001b[0;32m     29\u001b[0m )\n\u001b[0;32m     31\u001b[0m \u001b[39mreturn\u001b[39;00m evaluation_config\n",
      "File \u001b[1;32mc:\\work-projects\\PhisingDomainDetection_MLOps\\env\\lib\\pathlib.py:1042\u001b[0m, in \u001b[0;36mPath.__new__\u001b[1;34m(cls, *args, **kwargs)\u001b[0m\n\u001b[0;32m   1040\u001b[0m \u001b[39mif\u001b[39;00m \u001b[39mcls\u001b[39m \u001b[39mis\u001b[39;00m Path:\n\u001b[0;32m   1041\u001b[0m     \u001b[39mcls\u001b[39m \u001b[39m=\u001b[39m WindowsPath \u001b[39mif\u001b[39;00m os\u001b[39m.\u001b[39mname \u001b[39m==\u001b[39m \u001b[39m'\u001b[39m\u001b[39mnt\u001b[39m\u001b[39m'\u001b[39m \u001b[39melse\u001b[39;00m PosixPath\n\u001b[1;32m-> 1042\u001b[0m \u001b[39mself\u001b[39m \u001b[39m=\u001b[39m \u001b[39mcls\u001b[39;49m\u001b[39m.\u001b[39;49m_from_parts(args, init\u001b[39m=\u001b[39;49m\u001b[39mFalse\u001b[39;49;00m)\n\u001b[0;32m   1043\u001b[0m \u001b[39mif\u001b[39;00m \u001b[39mnot\u001b[39;00m \u001b[39mself\u001b[39m\u001b[39m.\u001b[39m_flavour\u001b[39m.\u001b[39mis_supported:\n\u001b[0;32m   1044\u001b[0m     \u001b[39mraise\u001b[39;00m \u001b[39mNotImplementedError\u001b[39;00m(\u001b[39m\"\u001b[39m\u001b[39mcannot instantiate \u001b[39m\u001b[39m%r\u001b[39;00m\u001b[39m on your system\u001b[39m\u001b[39m\"\u001b[39m\n\u001b[0;32m   1045\u001b[0m                               \u001b[39m%\u001b[39m (\u001b[39mcls\u001b[39m\u001b[39m.\u001b[39m\u001b[39m__name__\u001b[39m,))\n",
      "File \u001b[1;32mc:\\work-projects\\PhisingDomainDetection_MLOps\\env\\lib\\pathlib.py:683\u001b[0m, in \u001b[0;36mPurePath._from_parts\u001b[1;34m(cls, args, init)\u001b[0m\n\u001b[0;32m    678\u001b[0m \u001b[39m@classmethod\u001b[39m\n\u001b[0;32m    679\u001b[0m \u001b[39mdef\u001b[39;00m \u001b[39m_from_parts\u001b[39m(\u001b[39mcls\u001b[39m, args, init\u001b[39m=\u001b[39m\u001b[39mTrue\u001b[39;00m):\n\u001b[0;32m    680\u001b[0m     \u001b[39m# We need to call _parse_args on the instance, so as to get the\u001b[39;00m\n\u001b[0;32m    681\u001b[0m     \u001b[39m# right flavour.\u001b[39;00m\n\u001b[0;32m    682\u001b[0m     \u001b[39mself\u001b[39m \u001b[39m=\u001b[39m \u001b[39mobject\u001b[39m\u001b[39m.\u001b[39m\u001b[39m__new__\u001b[39m(\u001b[39mcls\u001b[39m)\n\u001b[1;32m--> 683\u001b[0m     drv, root, parts \u001b[39m=\u001b[39m \u001b[39mself\u001b[39;49m\u001b[39m.\u001b[39;49m_parse_args(args)\n\u001b[0;32m    684\u001b[0m     \u001b[39mself\u001b[39m\u001b[39m.\u001b[39m_drv \u001b[39m=\u001b[39m drv\n\u001b[0;32m    685\u001b[0m     \u001b[39mself\u001b[39m\u001b[39m.\u001b[39m_root \u001b[39m=\u001b[39m root\n",
      "File \u001b[1;32mc:\\work-projects\\PhisingDomainDetection_MLOps\\env\\lib\\pathlib.py:667\u001b[0m, in \u001b[0;36mPurePath._parse_args\u001b[1;34m(cls, args)\u001b[0m\n\u001b[0;32m    665\u001b[0m     parts \u001b[39m+\u001b[39m\u001b[39m=\u001b[39m a\u001b[39m.\u001b[39m_parts\n\u001b[0;32m    666\u001b[0m \u001b[39melse\u001b[39;00m:\n\u001b[1;32m--> 667\u001b[0m     a \u001b[39m=\u001b[39m os\u001b[39m.\u001b[39;49mfspath(a)\n\u001b[0;32m    668\u001b[0m     \u001b[39mif\u001b[39;00m \u001b[39misinstance\u001b[39m(a, \u001b[39mstr\u001b[39m):\n\u001b[0;32m    669\u001b[0m         \u001b[39m# Force-cast str subclasses to str (issue #21127)\u001b[39;00m\n\u001b[0;32m    670\u001b[0m         parts\u001b[39m.\u001b[39mappend(\u001b[39mstr\u001b[39m(a))\n",
      "\u001b[1;31mTypeError\u001b[0m: expected str, bytes or os.PathLike object, not NoneType"
     ]
    }
   ],
   "source": [
    "config = ConfigurationManager()\n",
    "evaluation_config = config.get_evaluation_config()\n",
    "evaluation = Evaluation(config=evaluation_config)\n",
    "evaluation.load_test_data()"
   ]
  },
  {
   "cell_type": "code",
   "execution_count": null,
   "metadata": {},
   "outputs": [],
   "source": []
  }
 ],
 "metadata": {
  "kernelspec": {
   "display_name": "Python 3",
   "language": "python",
   "name": "python3"
  },
  "language_info": {
   "codemirror_mode": {
    "name": "ipython",
    "version": 3
   },
   "file_extension": ".py",
   "mimetype": "text/x-python",
   "name": "python",
   "nbconvert_exporter": "python",
   "pygments_lexer": "ipython3",
   "version": "3.8.16"
  },
  "orig_nbformat": 4,
  "vscode": {
   "interpreter": {
    "hash": "22ff71f9cfc326748efd7a9104604504f4396b9e94072460122b9aa830a0da70"
   }
  }
 },
 "nbformat": 4,
 "nbformat_minor": 2
}
